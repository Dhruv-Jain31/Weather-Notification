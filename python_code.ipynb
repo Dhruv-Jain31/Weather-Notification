{
 "cells": [
  {
   "cell_type": "code",
   "execution_count": null,
   "id": "bc3e9aad-a9ad-4e74-ad5a-dba4c21a72bf",
   "metadata": {},
   "outputs": [],
   "source": [
    "import configparser\n",
    "from tkinter import *\n",
    "from tkinter import messagebox\n",
    "from PIL import Image,ImageTk\n",
    "import threading\n",
    "import requests\n",
    "import datetime\n",
    "import pytz\n",
    "from timezonefinder import TimezoneFinder\n",
    "\n",
    "\n",
    "'''Author: Dhruv Jain and Kashish Turan'''  \n",
    "\n",
    "class Weather(Tk):\n",
    "    def __init__(self):\n",
    "        super().__init__()\n",
    "        self.title(\"Weather App\")\n",
    "        self.geometry(\"800x480\")\n",
    "        self.iconbitmap(r\"Images/weather_icon.ico\")\n",
    "        self.resizable(False,False)\n",
    "        # self.__gui()\n",
    "        threading.Thread(target=self.__gui).start()\n",
    "        \n",
    "    def __gui(self):\n",
    "       # placing the black border for search\n",
    "       self.img=Image.open(r\"Images/black_border.png\")\n",
    "       self.resizeimg=self.img.resize((275,35))\n",
    "       self.finalimg=ImageTk.PhotoImage(self.resizeimg)\n",
    "       Label(image=self.finalimg).place(x=20,y=20)\n",
    "       \n",
    "       # creating the search button\n",
    "       self.img1=Image.open(r\"Images/search_btn.png\")\n",
    "       self.resizeim1=self.img1.resize((29,29))\n",
    "       self.finalimg1=ImageTk.PhotoImage(self.resizeim1)\n",
    "       self.b1=Button(image=self.finalimg1,bg=\"black\",command=self.threading)\n",
    "       self.b1.place(x=297,y=22)\n",
    "       self.bind(\"<Return>\",self.threading)\n",
    "\n"
   ]
  }
 ],
 "metadata": {
  "kernelspec": {
   "display_name": "Python 3 (ipykernel)",
   "language": "python",
   "name": "python3"
  },
  "language_info": {
   "codemirror_mode": {
    "name": "ipython",
    "version": 3
   },
   "file_extension": ".py",
   "mimetype": "text/x-python",
   "name": "python",
   "nbconvert_exporter": "python",
   "pygments_lexer": "ipython3",
   "version": "3.11.5"
  }
 },
 "nbformat": 4,
 "nbformat_minor": 5
}
